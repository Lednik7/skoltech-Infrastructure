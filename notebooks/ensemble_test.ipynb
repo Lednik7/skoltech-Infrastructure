{
 "cells": [
  {
   "cell_type": "code",
   "execution_count": 68,
   "id": "initial_id",
   "metadata": {
    "collapsed": true,
    "ExecuteTime": {
     "end_time": "2023-11-24T20:57:42.125393493Z",
     "start_time": "2023-11-24T20:57:40.842742348Z"
    }
   },
   "outputs": [],
   "source": [
    "import torch\n",
    "\n",
    "from src.modelling.production import DeeplabMOCO, UnetMOCO\n",
    "\n",
    "device = torch.device(\"cuda\" if torch.cuda.is_available() else \"cpu\")\n",
    "unet_moco = UnetMOCO(\"../artifacts/weights/Unet_rn50_MOCO.pth\", device)\n",
    "deeplab_moco = DeeplabMOCO(\"../artifacts/weights/deeplab_rn50_MOCO.pth\", device)"
   ]
  },
  {
   "cell_type": "code",
   "execution_count": 69,
   "outputs": [
    {
     "name": "stdout",
     "output_type": "stream",
     "text": [
      "(3824, 5973, 3) (3824, 5973, 3)\n"
     ]
    }
   ],
   "source": [
    "from src.preprocessing.reader import Reader\n",
    "\n",
    "r = Reader(\"../data/digital_leaders\")\n",
    "image, mask = r.read_sample(1)\n",
    "print(image.shape, mask.shape)"
   ],
   "metadata": {
    "collapsed": false,
    "ExecuteTime": {
     "end_time": "2023-11-24T20:57:42.682229708Z",
     "start_time": "2023-11-24T20:57:42.127507939Z"
    }
   },
   "id": "c7b1eeb0c228540f"
  },
  {
   "cell_type": "code",
   "execution_count": 70,
   "outputs": [],
   "source": [
    "from src.modelling.ensemble import Ensemble\n",
    "\n",
    "ensemble = Ensemble(models={\n",
    "    \"unet\": unet_moco,\n",
    "    \"deeplab\": deeplab_moco\n",
    "})"
   ],
   "metadata": {
    "collapsed": false,
    "ExecuteTime": {
     "end_time": "2023-11-24T20:57:42.688051192Z",
     "start_time": "2023-11-24T20:57:42.687449578Z"
    }
   },
   "id": "fffee47eb72447fa"
  },
  {
   "cell_type": "code",
   "execution_count": 71,
   "outputs": [
    {
     "data": {
      "text/plain": "((512, 512, 3), (512, 512, 3))"
     },
     "execution_count": 71,
     "metadata": {},
     "output_type": "execute_result"
    }
   ],
   "source": [
    "import numpy as np\n",
    "\n",
    "\n",
    "def random_crop(image, mask, size):\n",
    "    h, w = image.shape[:2]\n",
    "    new_h, new_w = size\n",
    "    top = np.random.randint(0, h - new_h)\n",
    "    left = np.random.randint(0, w - new_w)\n",
    "    image = image[top: top + new_h, left: left + new_w]\n",
    "    mask = mask[top: top + new_h, left: left + new_w]\n",
    "    return image, mask\n",
    "\n",
    "\n",
    "image_tile, mask_tile = random_crop(image, mask, (512, 512))\n",
    "image_tile.shape, mask_tile.shape"
   ],
   "metadata": {
    "collapsed": false,
    "ExecuteTime": {
     "end_time": "2023-11-24T20:57:42.698611689Z",
     "start_time": "2023-11-24T20:57:42.693625088Z"
    }
   },
   "id": "6f2fe9cc2b8d5fae"
  },
  {
   "cell_type": "code",
   "execution_count": 72,
   "outputs": [
    {
     "ename": "TypeError",
     "evalue": "Ensemble.__call__() got an unexpected keyword argument 'return_average'",
     "output_type": "error",
     "traceback": [
      "\u001B[0;31m---------------------------------------------------------------------------\u001B[0m",
      "\u001B[0;31mTypeError\u001B[0m                                 Traceback (most recent call last)",
      "Cell \u001B[0;32mIn[72], line 1\u001B[0m\n\u001B[0;32m----> 1\u001B[0m pred_tile \u001B[38;5;241m=\u001B[39m \u001B[43mensemble\u001B[49m\u001B[43m(\u001B[49m\u001B[43mimage_tile\u001B[49m\u001B[43m,\u001B[49m\u001B[43m \u001B[49m\u001B[43mreturn_average\u001B[49m\u001B[38;5;241;43m=\u001B[39;49m\u001B[38;5;28;43;01mTrue\u001B[39;49;00m\u001B[43m)\u001B[49m\n\u001B[1;32m      2\u001B[0m pred_tile\u001B[38;5;241m.\u001B[39mshape\n",
      "\u001B[0;31mTypeError\u001B[0m: Ensemble.__call__() got an unexpected keyword argument 'return_average'"
     ]
    }
   ],
   "source": [
    "pred_tile = ensemble(image_tile, return_average=True)\n",
    "pred_tile.shape"
   ],
   "metadata": {
    "collapsed": false,
    "ExecuteTime": {
     "end_time": "2023-11-24T20:57:42.997536326Z",
     "start_time": "2023-11-24T20:57:42.702050047Z"
    }
   },
   "id": "15a7ff2e3344fe32"
  },
  {
   "cell_type": "code",
   "execution_count": null,
   "outputs": [],
   "source": [
    "import matplotlib.pyplot as plt\n",
    "import cv2\n",
    "\n",
    "threshold = 0.5\n",
    "binary_pred = (pred_tile > threshold).astype(np.int16)\n",
    "binary_pred = cv2.resize(binary_pred, (512, 512))\n",
    "binary_pred = np.expand_dims(binary_pred, -1)\n",
    "mask_tile = mask_tile.astype(np.int16)\n",
    "\n",
    "plt.subplots(2, 3, figsize=(15, 10))\n",
    "plt.subplot(2, 3, 1)\n",
    "plt.imshow(image_tile)\n",
    "plt.title(\"image\")\n",
    "plt.subplot(2, 3, 2)\n",
    "plt.imshow(mask_tile * 255, cmap='Reds')\n",
    "plt.title(\"mask\")\n",
    "plt.subplot(2, 3, 3)\n",
    "plt.imshow(binary_pred * 255, cmap='Reds')\n",
    "plt.title(\"prediction\")\n",
    "plt.subplot(2, 3, 4)\n",
    "plt.imshow(np.abs(binary_pred - mask_tile) * 255, cmap='Reds')\n",
    "plt.title(\"diff\")\n",
    "plt.subplot(2, 3, 5)\n",
    "plt.imshow(image_tile)\n",
    "plt.imshow(mask_tile * 255, cmap='Reds', alpha=0.5)\n",
    "plt.title(\"image + mask\")\n",
    "plt.subplot(2, 3, 6)\n",
    "plt.imshow(image_tile)\n",
    "plt.imshow(binary_pred * 255, cmap='Reds', alpha=0.5)\n",
    "plt.title(\"image + prediction\")\n",
    "plt.show()"
   ],
   "metadata": {
    "collapsed": false,
    "ExecuteTime": {
     "end_time": "2023-11-24T20:57:43.001873752Z",
     "start_time": "2023-11-24T20:57:43.001547802Z"
    }
   },
   "id": "ed022aa3743e4978"
  },
  {
   "cell_type": "code",
   "execution_count": null,
   "outputs": [],
   "source": [],
   "metadata": {
    "collapsed": false,
    "ExecuteTime": {
     "start_time": "2023-11-24T20:57:43.003784820Z"
    }
   },
   "id": "c92df38fdb280361"
  }
 ],
 "metadata": {
  "kernelspec": {
   "display_name": "Python 3",
   "language": "python",
   "name": "python3"
  },
  "language_info": {
   "codemirror_mode": {
    "name": "ipython",
    "version": 2
   },
   "file_extension": ".py",
   "mimetype": "text/x-python",
   "name": "python",
   "nbconvert_exporter": "python",
   "pygments_lexer": "ipython2",
   "version": "2.7.6"
  }
 },
 "nbformat": 4,
 "nbformat_minor": 5
}
