{
 "cells": [
  {
   "cell_type": "code",
   "execution_count": 1,
   "id": "initial_id",
   "metadata": {
    "collapsed": true,
    "ExecuteTime": {
     "end_time": "2023-11-25T00:29:28.524345907Z",
     "start_time": "2023-11-25T00:29:28.466756818Z"
    }
   },
   "outputs": [],
   "source": [
    "from src.preprocessing.reader import Reader\n",
    "from src.preprocessing.tile_generating import split_image"
   ]
  },
  {
   "cell_type": "code",
   "execution_count": 2,
   "outputs": [
    {
     "data": {
      "text/plain": "((3824, 5973, 3), (3824, 5973))"
     },
     "execution_count": 2,
     "metadata": {},
     "output_type": "execute_result"
    }
   ],
   "source": [
    "r = Reader(\"../data/digital_leaders/\", read_type=\"opencv\")\n",
    "image, mask = r.read_sample(1)\n",
    "image.shape, mask.shape"
   ],
   "metadata": {
    "collapsed": false,
    "ExecuteTime": {
     "end_time": "2023-11-25T00:29:29.105429674Z",
     "start_time": "2023-11-25T00:29:28.525544130Z"
    }
   },
   "id": "11e711068c21c704"
  },
  {
   "cell_type": "code",
   "execution_count": 3,
   "outputs": [
    {
     "data": {
      "text/plain": "(96, 96)"
     },
     "execution_count": 3,
     "metadata": {},
     "output_type": "execute_result"
    }
   ],
   "source": [
    "tiles = list(split_image(image, mask=mask, tile_size=512))\n",
    "image_tiles = [tile[0] for tile in tiles]\n",
    "mask_tiles = [tile[1] for tile in tiles]\n",
    "len(image_tiles), len(mask_tiles)"
   ],
   "metadata": {
    "collapsed": false,
    "ExecuteTime": {
     "end_time": "2023-11-25T00:29:29.119694856Z",
     "start_time": "2023-11-25T00:29:29.107157166Z"
    }
   },
   "id": "c9895204a06c40f4"
  },
  {
   "cell_type": "code",
   "execution_count": 4,
   "outputs": [
    {
     "ename": "ValueError",
     "evalue": "could not broadcast input array from shape (512,512) into shape (240,512)",
     "output_type": "error",
     "traceback": [
      "\u001B[0;31m---------------------------------------------------------------------------\u001B[0m",
      "\u001B[0;31mValueError\u001B[0m                                Traceback (most recent call last)",
      "Cell \u001B[0;32mIn[4], line 3\u001B[0m\n\u001B[1;32m      1\u001B[0m \u001B[38;5;28;01mfrom\u001B[39;00m \u001B[38;5;21;01msrc\u001B[39;00m\u001B[38;5;21;01m.\u001B[39;00m\u001B[38;5;21;01mpreprocessing\u001B[39;00m\u001B[38;5;21;01m.\u001B[39;00m\u001B[38;5;21;01mtile_generating\u001B[39;00m \u001B[38;5;28;01mimport\u001B[39;00m merge_tiles\n\u001B[0;32m----> 3\u001B[0m merged \u001B[38;5;241m=\u001B[39m \u001B[43mmerge_tiles\u001B[49m\u001B[43m(\u001B[49m\u001B[43mmask_tiles\u001B[49m\u001B[43m,\u001B[49m\u001B[43m \u001B[49m\u001B[43moriginal_size\u001B[49m\u001B[38;5;241;43m=\u001B[39;49m\u001B[43mimage\u001B[49m\u001B[38;5;241;43m.\u001B[39;49m\u001B[43mshape\u001B[49m\u001B[43m,\u001B[49m\u001B[43m \u001B[49m\u001B[43mtile_size\u001B[49m\u001B[38;5;241;43m=\u001B[39;49m\u001B[38;5;241;43m512\u001B[39;49m\u001B[43m)\u001B[49m\n\u001B[1;32m      4\u001B[0m merged\u001B[38;5;241m.\u001B[39mshape\n",
      "File \u001B[0;32m~/PycharmProjects/skoltech-Infrastructure/src/preprocessing/tile_generating.py:77\u001B[0m, in \u001B[0;36mmerge_tiles\u001B[0;34m(tiles, original_size, tile_size, overlap)\u001B[0m\n\u001B[1;32m     74\u001B[0m             \u001B[38;5;28;01mcontinue\u001B[39;00m\n\u001B[1;32m     76\u001B[0m         tile \u001B[38;5;241m=\u001B[39m tiles[k][:tile_height, :tile_width]\n\u001B[0;32m---> 77\u001B[0m         \u001B[43mimage\u001B[49m\u001B[43m[\u001B[49m\u001B[43my\u001B[49m\u001B[43m:\u001B[49m\u001B[43my\u001B[49m\u001B[43m \u001B[49m\u001B[38;5;241;43m+\u001B[39;49m\u001B[43m \u001B[49m\u001B[43mtile_height\u001B[49m\u001B[43m,\u001B[49m\u001B[43m \u001B[49m\u001B[43mx\u001B[49m\u001B[43m:\u001B[49m\u001B[43mx\u001B[49m\u001B[43m \u001B[49m\u001B[38;5;241;43m+\u001B[39;49m\u001B[43m \u001B[49m\u001B[43mtile_width\u001B[49m\u001B[43m]\u001B[49m \u001B[38;5;241m=\u001B[39m tile\n\u001B[1;32m     78\u001B[0m         k \u001B[38;5;241m+\u001B[39m\u001B[38;5;241m=\u001B[39m \u001B[38;5;241m1\u001B[39m\n\u001B[1;32m     79\u001B[0m \u001B[38;5;28;01mreturn\u001B[39;00m image\n",
      "\u001B[0;31mValueError\u001B[0m: could not broadcast input array from shape (512,512) into shape (240,512)"
     ]
    }
   ],
   "source": [
    "from src.preprocessing.tile_generating import merge_tiles\n",
    "\n",
    "merged = merge_tiles(mask_tiles, original_size=image.shape, tile_size=512)\n",
    "merged.shape"
   ],
   "metadata": {
    "collapsed": false,
    "ExecuteTime": {
     "end_time": "2023-11-25T00:29:29.290635031Z",
     "start_time": "2023-11-25T00:29:29.120877783Z"
    }
   },
   "id": "e6c80e2c22c144c7"
  },
  {
   "cell_type": "code",
   "execution_count": null,
   "outputs": [],
   "source": [
    "import matplotlib.pyplot as plt\n",
    "\n",
    "plt.subplots(1, 2, figsize=(15, 5))\n",
    "plt.subplot(1, 2, 1)\n",
    "plt.imshow(mask, cmap='gray')\n",
    "plt.title(\"mask\")\n",
    "plt.subplot(1, 2, 2)\n",
    "plt.imshow(merged, cmap='gray')\n",
    "plt.title(\"merged\")\n",
    "plt.show()"
   ],
   "metadata": {
    "collapsed": false,
    "ExecuteTime": {
     "start_time": "2023-11-25T00:29:29.292754341Z"
    }
   },
   "id": "3e618195c7bef625"
  },
  {
   "cell_type": "code",
   "execution_count": null,
   "outputs": [],
   "source": [],
   "metadata": {
    "collapsed": false,
    "ExecuteTime": {
     "start_time": "2023-11-25T00:29:29.293579045Z"
    }
   },
   "id": "a5b8adcdfaba3f13"
  }
 ],
 "metadata": {
  "kernelspec": {
   "display_name": "Python 3",
   "language": "python",
   "name": "python3"
  },
  "language_info": {
   "codemirror_mode": {
    "name": "ipython",
    "version": 2
   },
   "file_extension": ".py",
   "mimetype": "text/x-python",
   "name": "python",
   "nbconvert_exporter": "python",
   "pygments_lexer": "ipython2",
   "version": "2.7.6"
  }
 },
 "nbformat": 4,
 "nbformat_minor": 5
}
