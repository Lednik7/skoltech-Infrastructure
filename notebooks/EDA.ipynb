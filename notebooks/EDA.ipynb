{
 "cells": [
  {
   "cell_type": "code",
   "execution_count": 22,
   "id": "initial_id",
   "metadata": {
    "collapsed": true,
    "ExecuteTime": {
     "end_time": "2023-11-23T17:08:14.684670638Z",
     "start_time": "2023-11-23T17:08:14.679184056Z"
    }
   },
   "outputs": [
    {
     "name": "stdout",
     "output_type": "stream",
     "text": [
      "../data/digital_leaders/images/train_image_001.png True\n",
      "../data/digital_leaders/masks/train_mask_001.png True\n"
     ]
    }
   ],
   "source": [
    "import os\n",
    "\n",
    "DATA_PATH = '../data/digital_leaders'\n",
    "IMAGES_PATH = os.path.join(DATA_PATH, 'images')\n",
    "MASKS_PATH = os.path.join(DATA_PATH, 'masks')\n",
    "test_image_pattern = 'train_image_{:03}.png'\n",
    "test_mask_pattern = 'train_mask_{:03}.png'\n",
    "test_img_path = os.path.join(IMAGES_PATH, test_image_pattern.format(1))\n",
    "test_mask_path = os.path.join(MASKS_PATH, test_mask_pattern.format(1))\n",
    "print(test_img_path, os.path.exists(test_img_path))\n",
    "print(test_mask_path, os.path.exists(test_mask_path))"
   ]
  },
  {
   "cell_type": "code",
   "execution_count": 23,
   "outputs": [
    {
     "data": {
      "text/plain": "  0%|          | 0/21 [00:00<?, ?it/s]",
      "application/vnd.jupyter.widget-view+json": {
       "version_major": 2,
       "version_minor": 0,
       "model_id": "efe42b53f4d9483ba760cb9812f86af9"
      }
     },
     "metadata": {},
     "output_type": "display_data"
    }
   ],
   "source": [
    "import cv2\n",
    "from tqdm.notebook import tqdm\n",
    "\n",
    "\n",
    "def read_sample(index):\n",
    "    assert 0 <= index <= 20\n",
    "    img = cv2.imread(os.path.join(IMAGES_PATH, test_image_pattern.format(index)))\n",
    "    mask = cv2.imread(os.path.join(MASKS_PATH, test_mask_pattern.format(index)))\n",
    "    return img, mask\n",
    "\n",
    "\n",
    "image_stats = {\n",
    "    \"width\": [],\n",
    "    \"height\": [],\n",
    "    \"ratio\": [],\n",
    "    \"area\": [],\n",
    "    \"width x height\": [],\n",
    "}\n",
    "\n",
    "for i in tqdm(range(21)):\n",
    "    img, mask = read_sample(i)\n",
    "    image_stats[\"width\"].append(img.shape[0])\n",
    "    image_stats[\"height\"].append(img.shape[1])\n",
    "    image_stats[\"ratio\"].append(img.shape[0] / img.shape[1])\n",
    "    image_stats[\"area\"].append(img.shape[0] * img.shape[1])\n",
    "    image_stats[\"width x height\"].append(\"{} x {}\".format(img.shape[0], img.shape[1]))"
   ],
   "metadata": {
    "collapsed": false,
    "ExecuteTime": {
     "end_time": "2023-11-23T17:08:34.692848558Z",
     "start_time": "2023-11-23T17:08:15.114308036Z"
    }
   },
   "id": "9dccc434a7d0c4b0"
  },
  {
   "cell_type": "code",
   "execution_count": 36,
   "outputs": [
    {
     "data": {
      "text/plain": "['8661 x 12498',\n '9631 x 10380',\n '7276 x 10487',\n '7347 x 7526',\n '6394 x 7920',\n '5885 x 7811',\n '6206 x 6206',\n '5343 x 6810',\n '5555 x 6451',\n '5262 x 6546',\n '5849 x 5108',\n '4999 x 5835',\n '4855 x 5678',\n '5341 x 5101',\n '4882 x 5537',\n '3824 x 5973',\n '3455 x 6430',\n '4996 x 4186',\n '3953 x 4411',\n '4010 x 4148',\n '2959 x 3787']"
     },
     "execution_count": 36,
     "metadata": {},
     "output_type": "execute_result"
    }
   ],
   "source": [
    "# sizes sorted by area size\n",
    "sorted(image_stats[\"width x height\"], key=lambda x: - int(x.split(\" x \")[0]) * int(x.split(\" x \")[1]))"
   ],
   "metadata": {
    "collapsed": false,
    "ExecuteTime": {
     "end_time": "2023-11-23T17:13:59.458627522Z",
     "start_time": "2023-11-23T17:13:59.415746204Z"
    }
   },
   "id": "97852471c1bd9feb"
  }
 ],
 "metadata": {
  "kernelspec": {
   "display_name": "Python 3",
   "language": "python",
   "name": "python3"
  },
  "language_info": {
   "codemirror_mode": {
    "name": "ipython",
    "version": 2
   },
   "file_extension": ".py",
   "mimetype": "text/x-python",
   "name": "python",
   "nbconvert_exporter": "python",
   "pygments_lexer": "ipython2",
   "version": "2.7.6"
  }
 },
 "nbformat": 4,
 "nbformat_minor": 5
}
