{
 "cells": [
  {
   "cell_type": "code",
   "execution_count": 3,
   "id": "initial_id",
   "metadata": {
    "collapsed": true,
    "ExecuteTime": {
     "end_time": "2023-11-23T17:32:07.253431373Z",
     "start_time": "2023-11-23T17:32:07.236389941Z"
    }
   },
   "outputs": [
    {
     "name": "stdout",
     "output_type": "stream",
     "text": [
      "Image path: ../data/digital_leaders/images\n",
      "Mask path: ../data/digital_leaders/masks\n"
     ]
    }
   ],
   "source": [
    "from src.preprocessing.reader import Reader\n",
    "\n",
    "r = Reader('../data/digital_leaders')\n",
    "print(r)"
   ]
  },
  {
   "cell_type": "code",
   "execution_count": 4,
   "outputs": [
    {
     "data": {
      "text/plain": "  0%|          | 0/21 [00:00<?, ?it/s]",
      "application/vnd.jupyter.widget-view+json": {
       "version_major": 2,
       "version_minor": 0,
       "model_id": "c7bc8b6ff62a4b50b8364a20bc150e96"
      }
     },
     "metadata": {},
     "output_type": "display_data"
    }
   ],
   "source": [
    "from tqdm.notebook import tqdm\n",
    "\n",
    "image_stats = {\n",
    "    \"width\": [],\n",
    "    \"height\": [],\n",
    "    \"ratio\": [],\n",
    "    \"area\": [],\n",
    "    \"width x height\": [],\n",
    "}\n",
    "\n",
    "for i in tqdm(range(21)):\n",
    "    img, mask = r.read_sample(i)\n",
    "    image_stats[\"width\"].append(img.shape[0])\n",
    "    image_stats[\"height\"].append(img.shape[1])\n",
    "    image_stats[\"ratio\"].append(img.shape[0] / img.shape[1])\n",
    "    image_stats[\"area\"].append(img.shape[0] * img.shape[1])\n",
    "    image_stats[\"width x height\"].append(\"{} x {}\".format(img.shape[0], img.shape[1]))"
   ],
   "metadata": {
    "collapsed": false,
    "ExecuteTime": {
     "end_time": "2023-11-23T17:32:28.100409336Z",
     "start_time": "2023-11-23T17:32:08.608721286Z"
    }
   },
   "id": "9dccc434a7d0c4b0"
  },
  {
   "cell_type": "code",
   "execution_count": 5,
   "outputs": [
    {
     "data": {
      "text/plain": "['8661 x 12498',\n '9631 x 10380',\n '7276 x 10487',\n '7347 x 7526',\n '6394 x 7920',\n '5885 x 7811',\n '6206 x 6206',\n '5343 x 6810',\n '5555 x 6451',\n '5262 x 6546',\n '5849 x 5108',\n '4999 x 5835',\n '4855 x 5678',\n '5341 x 5101',\n '4882 x 5537',\n '3824 x 5973',\n '3455 x 6430',\n '4996 x 4186',\n '3953 x 4411',\n '4010 x 4148',\n '2959 x 3787']"
     },
     "execution_count": 5,
     "metadata": {},
     "output_type": "execute_result"
    }
   ],
   "source": [
    "# sizes sorted by area size\n",
    "sorted(image_stats[\"width x height\"],\n",
    "       key=lambda x: - int(x.split(\" x \")[0]) * int(x.split(\" x \")[1]))"
   ],
   "metadata": {
    "collapsed": false,
    "ExecuteTime": {
     "end_time": "2023-11-23T17:32:28.101104169Z",
     "start_time": "2023-11-23T17:32:28.096862634Z"
    }
   },
   "id": "97852471c1bd9feb"
  },
  {
   "cell_type": "code",
   "execution_count": null,
   "outputs": [],
   "source": [],
   "metadata": {
    "collapsed": false
   },
   "id": "cd4473b28a039013"
  }
 ],
 "metadata": {
  "kernelspec": {
   "display_name": "Python 3",
   "language": "python",
   "name": "python3"
  },
  "language_info": {
   "codemirror_mode": {
    "name": "ipython",
    "version": 2
   },
   "file_extension": ".py",
   "mimetype": "text/x-python",
   "name": "python",
   "nbconvert_exporter": "python",
   "pygments_lexer": "ipython2",
   "version": "2.7.6"
  }
 },
 "nbformat": 4,
 "nbformat_minor": 5
}
