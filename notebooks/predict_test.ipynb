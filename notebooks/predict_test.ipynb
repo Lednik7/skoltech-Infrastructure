{
 "cells": [
  {
   "cell_type": "code",
   "execution_count": 1,
   "id": "initial_id",
   "metadata": {
    "collapsed": true,
    "ExecuteTime": {
     "end_time": "2023-11-25T09:33:57.752397084Z",
     "start_time": "2023-11-25T09:33:45.494903003Z"
    }
   },
   "outputs": [],
   "source": [
    "import cv2\n",
    "import torch\n",
    "\n",
    "from src.modelling.production import FPNMOCOEnsemble, FootPrintModel, UnetMOCO, \\\n",
    "    UnetPlusPlusMOCOEnsemble\n",
    "\n",
    "device = torch.device(\"cuda\" if torch.cuda.is_available() else \"cpu\")\n",
    "unet_moco = UnetMOCO(\"../artifacts/weights/Unet_rn50_MOCO.pth\", device)\n",
    "footprint_model = FootPrintModel(device=\"cuda\")\n",
    "unetplusplus = UnetPlusPlusMOCOEnsemble(weights_paths=[\n",
    "    \"../artifacts/weights/unet_plus_plus_0.pth\",\n",
    "    \"../artifacts/weights/unet_plus_plus_1.pth\",\n",
    "    \"../artifacts/weights/unet_plus_plus_2.pth\",\n",
    "    \"../artifacts/weights/unet_plus_plus_3.pth\",\n",
    "    \"../artifacts/weights/unet_plus_plus_4.pth\",\n",
    "])\n",
    "fpn = FPNMOCOEnsemble(weights_paths=[\n",
    "    \"../artifacts/weights/fpn_dice_0.pth\",\n",
    "    \"../artifacts/weights/fpn_dice_1.pth\",\n",
    "    \"../artifacts/weights/fpn_dice_2.pth\",\n",
    "    \"../artifacts/weights/fpn_dice_3.pth\",\n",
    "    \"../artifacts/weights/fpn_dice_4.pth\",\n",
    "])"
   ]
  },
  {
   "cell_type": "code",
   "execution_count": 2,
   "outputs": [],
   "source": [
    "from src.modelling.ensemble import Ensemble\n",
    "\n",
    "ensemble = Ensemble(models={\n",
    "    # \"unet\": unet_moco,\n",
    "    \"footprint\": footprint_model,\n",
    "    \"fpn\": fpn,\n",
    "    \"unetplusplus\": unetplusplus,\n",
    "},\n",
    "    # weights=[0.5, 0.5]\n",
    ")"
   ],
   "metadata": {
    "collapsed": false,
    "ExecuteTime": {
     "end_time": "2023-11-25T09:33:57.793835316Z",
     "start_time": "2023-11-25T09:33:57.793515387Z"
    }
   },
   "id": "43014eac95e9e5d8"
  },
  {
   "cell_type": "code",
   "execution_count": 3,
   "outputs": [],
   "source": [
    "from src.modelling.predict import ShiftedPredictor\n",
    "\n",
    "predictor = ShiftedPredictor(ensemble)"
   ],
   "metadata": {
    "collapsed": false,
    "ExecuteTime": {
     "end_time": "2023-11-25T09:33:57.794057750Z",
     "start_time": "2023-11-25T09:33:57.793652581Z"
    }
   },
   "id": "5fe273e55f47cc0a"
  },
  {
   "cell_type": "code",
   "execution_count": 4,
   "outputs": [],
   "source": [
    "import glob\n",
    "\n",
    "images = []\n",
    "paths = sorted(glob.glob(\"../data/digital_leaders/images/*.png\"))\n",
    "for filename in paths:\n",
    "    images.append(cv2.cvtColor(cv2.imread(filename), cv2.COLOR_BGR2RGB))"
   ],
   "metadata": {
    "collapsed": false,
    "ExecuteTime": {
     "end_time": "2023-11-25T09:34:13.368800672Z",
     "start_time": "2023-11-25T09:33:57.793699044Z"
    }
   },
   "id": "5f2dc565abb41ad0"
  },
  {
   "cell_type": "code",
   "execution_count": null,
   "outputs": [
    {
     "data": {
      "text/plain": "  0%|          | 0/225 [00:00<?, ?it/s]",
      "application/vnd.jupyter.widget-view+json": {
       "version_major": 2,
       "version_minor": 0,
       "model_id": "e0c3330f0e5a4cccbc54171bccb8f824"
      }
     },
     "metadata": {},
     "output_type": "display_data"
    },
    {
     "data": {
      "text/plain": "  0%|          | 0/240 [00:00<?, ?it/s]",
      "application/vnd.jupyter.widget-view+json": {
       "version_major": 2,
       "version_minor": 0,
       "model_id": "f4195281af1b44a89d8642aa7bd45940"
      }
     },
     "metadata": {},
     "output_type": "display_data"
    },
    {
     "data": {
      "text/plain": "  0%|          | 0/96 [00:00<?, ?it/s]",
      "application/vnd.jupyter.widget-view+json": {
       "version_major": 2,
       "version_minor": 0,
       "model_id": "0ce68aff88a44c1ba3d947fb7bfa302d"
      }
     },
     "metadata": {},
     "output_type": "display_data"
    },
    {
     "data": {
      "text/plain": "  0%|          | 0/104 [00:00<?, ?it/s]",
      "application/vnd.jupyter.widget-view+json": {
       "version_major": 2,
       "version_minor": 0,
       "model_id": "ca05bf1a5f9b42c29020b82d9a6cbd1e"
      }
     },
     "metadata": {},
     "output_type": "display_data"
    },
    {
     "data": {
      "text/plain": "  0%|          | 0/169 [00:00<?, ?it/s]",
      "application/vnd.jupyter.widget-view+json": {
       "version_major": 2,
       "version_minor": 0,
       "model_id": "7f879c745fd447b5b2214fdf1d0ce591"
      }
     },
     "metadata": {},
     "output_type": "display_data"
    },
    {
     "data": {
      "text/plain": "  0%|          | 0/169 [00:00<?, ?it/s]",
      "application/vnd.jupyter.widget-view+json": {
       "version_major": 2,
       "version_minor": 0,
       "model_id": "c8d78948f1ca49a593f8e7fc0a40716f"
      }
     },
     "metadata": {},
     "output_type": "display_data"
    },
    {
     "data": {
      "text/plain": "  0%|          | 0/192 [00:00<?, ?it/s]",
      "application/vnd.jupyter.widget-view+json": {
       "version_major": 2,
       "version_minor": 0,
       "model_id": "5e2e433c9f0a4eadaccb86a683636693"
      }
     },
     "metadata": {},
     "output_type": "display_data"
    },
    {
     "data": {
      "text/plain": "  0%|          | 0/192 [00:00<?, ?it/s]",
      "application/vnd.jupyter.widget-view+json": {
       "version_major": 2,
       "version_minor": 0,
       "model_id": "7eabd55b042e4096ab1033299675f001"
      }
     },
     "metadata": {},
     "output_type": "display_data"
    },
    {
     "data": {
      "text/plain": "  0%|          | 0/315 [00:00<?, ?it/s]",
      "application/vnd.jupyter.widget-view+json": {
       "version_major": 2,
       "version_minor": 0,
       "model_id": "42bc5fc00d8f488e8d0bf5421cf62b1e"
      }
     },
     "metadata": {},
     "output_type": "display_data"
    },
    {
     "data": {
      "text/plain": "  0%|          | 0/315 [00:00<?, ?it/s]",
      "application/vnd.jupyter.widget-view+json": {
       "version_major": 2,
       "version_minor": 0,
       "model_id": "a90331c3f16e48deaa01346a51919503"
      }
     },
     "metadata": {},
     "output_type": "display_data"
    },
    {
     "data": {
      "text/plain": "  0%|          | 0/399 [00:00<?, ?it/s]",
      "application/vnd.jupyter.widget-view+json": {
       "version_major": 2,
       "version_minor": 0,
       "model_id": "1c20592516ba478f80699a3a254b932e"
      }
     },
     "metadata": {},
     "output_type": "display_data"
    },
    {
     "data": {
      "text/plain": "  0%|          | 0/420 [00:00<?, ?it/s]",
      "application/vnd.jupyter.widget-view+json": {
       "version_major": 2,
       "version_minor": 0,
       "model_id": "d02cab7c114d4065b4b35627672b5dd3"
      }
     },
     "metadata": {},
     "output_type": "display_data"
    },
    {
     "data": {
      "text/plain": "  0%|          | 0/143 [00:00<?, ?it/s]",
      "application/vnd.jupyter.widget-view+json": {
       "version_major": 2,
       "version_minor": 0,
       "model_id": "c4599480bfde410989bcd4cfbdb2941a"
      }
     },
     "metadata": {},
     "output_type": "display_data"
    },
    {
     "data": {
      "text/plain": "  0%|          | 0/154 [00:00<?, ?it/s]",
      "application/vnd.jupyter.widget-view+json": {
       "version_major": 2,
       "version_minor": 0,
       "model_id": "43fc76ebba0548c6a5e4d37d7a3a2d01"
      }
     },
     "metadata": {},
     "output_type": "display_data"
    },
    {
     "data": {
      "text/plain": "  0%|          | 0/143 [00:00<?, ?it/s]",
      "application/vnd.jupyter.widget-view+json": {
       "version_major": 2,
       "version_minor": 0,
       "model_id": "5cba8598f4874ae08dea92dab071a45b"
      }
     },
     "metadata": {},
     "output_type": "display_data"
    },
    {
     "data": {
      "text/plain": "  0%|          | 0/168 [00:00<?, ?it/s]",
      "application/vnd.jupyter.widget-view+json": {
       "version_major": 2,
       "version_minor": 0,
       "model_id": "533655bad4c94818ad935b95433b1a37"
      }
     },
     "metadata": {},
     "output_type": "display_data"
    },
    {
     "data": {
      "text/plain": "  0%|          | 0/208 [00:00<?, ?it/s]",
      "application/vnd.jupyter.widget-view+json": {
       "version_major": 2,
       "version_minor": 0,
       "model_id": "239c6d2cba234a6897ec5f849313d29c"
      }
     },
     "metadata": {},
     "output_type": "display_data"
    },
    {
     "data": {
      "text/plain": "  0%|          | 0/208 [00:00<?, ?it/s]",
      "application/vnd.jupyter.widget-view+json": {
       "version_major": 2,
       "version_minor": 0,
       "model_id": "17f1ecae2ba244f79f387e3270bc151b"
      }
     },
     "metadata": {},
     "output_type": "display_data"
    }
   ],
   "source": [
    "preds = predictor.predict_many(images)"
   ],
   "metadata": {
    "collapsed": false,
    "is_executing": true,
    "ExecuteTime": {
     "start_time": "2023-11-25T09:34:13.370641420Z"
    }
   },
   "id": "bf6fdede70e1a1b0"
  },
  {
   "cell_type": "code",
   "execution_count": null,
   "outputs": [],
   "source": [
    "binary_preds = [(pred > 0.5).astype(\"uint8\") for pred in preds]\n",
    "binary_preds[0].shape, binary_preds[0].dtype, binary_preds[0].min(), binary_preds[0].max()"
   ],
   "metadata": {
    "collapsed": false,
    "is_executing": true
   },
   "id": "90e7443391181742"
  },
  {
   "cell_type": "code",
   "execution_count": null,
   "outputs": [],
   "source": [
    "from PIL import Image\n",
    "\n",
    "for pred, filepath in zip(binary_preds, paths):\n",
    "    image = Image.fromarray(pred)\n",
    "    image.save(filepath.replace(\"images\", \"preds\").replace(\"image\", \"preds\"))"
   ],
   "metadata": {
    "collapsed": false,
    "is_executing": true
   },
   "id": "c7d5344b594aedce"
  }
 ],
 "metadata": {
  "kernelspec": {
   "display_name": "Python 3",
   "language": "python",
   "name": "python3"
  },
  "language_info": {
   "codemirror_mode": {
    "name": "ipython",
    "version": 2
   },
   "file_extension": ".py",
   "mimetype": "text/x-python",
   "name": "python",
   "nbconvert_exporter": "python",
   "pygments_lexer": "ipython2",
   "version": "2.7.6"
  }
 },
 "nbformat": 4,
 "nbformat_minor": 5
}
