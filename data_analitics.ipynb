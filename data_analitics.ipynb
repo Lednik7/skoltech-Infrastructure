{
 "cells": [
  {
   "cell_type": "code",
   "execution_count": 1,
   "id": "initial_id",
   "metadata": {
    "collapsed": true,
    "ExecuteTime": {
     "end_time": "2023-11-23T15:39:00.548226987Z",
     "start_time": "2023-11-23T15:38:59.970954625Z"
    }
   },
   "outputs": [
    {
     "ename": "ModuleNotFoundError",
     "evalue": "No module named 'imageio'",
     "output_type": "error",
     "traceback": [
      "\u001B[0;31m---------------------------------------------------------------------------\u001B[0m",
      "\u001B[0;31mModuleNotFoundError\u001B[0m                       Traceback (most recent call last)",
      "Cell \u001B[0;32mIn[1], line 2\u001B[0m\n\u001B[1;32m      1\u001B[0m \u001B[38;5;28;01mimport\u001B[39;00m \u001B[38;5;21;01mnumpy\u001B[39;00m \u001B[38;5;28;01mas\u001B[39;00m \u001B[38;5;21;01mnp\u001B[39;00m\n\u001B[0;32m----> 2\u001B[0m \u001B[38;5;28;01mimport\u001B[39;00m \u001B[38;5;21;01mimageio\u001B[39;00m\u001B[38;5;21;01m.\u001B[39;00m\u001B[38;5;21;01mv3\u001B[39;00m \u001B[38;5;28;01mas\u001B[39;00m \u001B[38;5;21;01miio\u001B[39;00m\n",
      "\u001B[0;31mModuleNotFoundError\u001B[0m: No module named 'imageio'"
     ]
    }
   ],
   "source": [
    "import os\n",
    "\n",
    "import numpy as np\n",
    "import imageio.v3 as iio\n"
   ]
  },
  {
   "cell_type": "code",
   "execution_count": null,
   "outputs": [],
   "source": [
    "from matplotlib import pyplot as plt\n",
    "\n",
    "def overlay_mask(image_path, mask_path):\n",
    "    image = iio.imread(image_path)\n",
    "    mask = iio.imread(mask_path)\n",
    "    \n",
    "    _, axs = plt.subplots(1, 2, figsize=(12, 12))\n",
    "\n",
    "    axs[0].imshow(image)\n",
    "    axs[0].set_title('Исходное изображение')\n",
    "\n",
    "    axs[1].imshow(mask, cmap=plt.cm.Greys)\n",
    "    axs[1].set_title('Изображение с маской')\n",
    "\n",
    "    plt.show()\n",
    "\n",
    "overlay_mask('train/train/images/train_image_001.png', 'train/train/masks/train_mask_001.png')\n"
   ],
   "metadata": {
    "collapsed": false
   },
   "id": "44e33f6b48afc3a2"
  },
  {
   "cell_type": "code",
   "execution_count": null,
   "outputs": [],
   "source": [
    "ROOT_PATH = ''\n",
    "path_to_image = os.path.join(ROOT_PATH, 'train/train/images/train_image_001.png')\n",
    "path_to_mask = os.path.join(ROOT_PATH, 'train/train/masks/train_mask_001.png')\n",
    "overlay_mask(path_to_image, path_to_mask)\n"
   ],
   "metadata": {
    "collapsed": false
   },
   "id": "808b29d5eadff854"
  }
 ],
 "metadata": {
  "kernelspec": {
   "display_name": "Python 3",
   "language": "python",
   "name": "python3"
  },
  "language_info": {
   "codemirror_mode": {
    "name": "ipython",
    "version": 2
   },
   "file_extension": ".py",
   "mimetype": "text/x-python",
   "name": "python",
   "nbconvert_exporter": "python",
   "pygments_lexer": "ipython2",
   "version": "2.7.6"
  }
 },
 "nbformat": 4,
 "nbformat_minor": 5
}
